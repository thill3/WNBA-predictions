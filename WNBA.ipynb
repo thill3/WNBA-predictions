{
 "cells": [
  {
   "cell_type": "code",
   "execution_count": 8,
   "id": "1d3f4354",
   "metadata": {},
   "outputs": [],
   "source": [
    "#16 cells\n",
    "\n",
    "#basics for python\n",
    "import numpy as np\n",
    "import pandas as pd\n",
    "from datetime import date, timedelta\n",
    "\n",
    "#machine learning\n",
    "from sklearn.ensemble import RandomForestClassifier\n",
    "from sklearn.metrics import accuracy_score\n",
    "\n",
    "#model evaluation\n",
    "from sklearn.metrics import confusion_matrix\n",
    "\n",
    "#html processing\n",
    "import requests as rq\n",
    "from bs4 import BeautifulSoup as bs\n",
    "import re #regular expressions\n",
    "import calendar as cal\n",
    "from datetime import date, datetime"
   ]
  },
  {
   "cell_type": "code",
   "execution_count": 9,
   "id": "917ac10c-e9c2-4e8c-b949-f8e875a2efd9",
   "metadata": {},
   "outputs": [
    {
     "name": "stdout",
     "output_type": "stream",
     "text": [
      "string dates = Index(['20240514', '20240515', '20240516', '20240517', '20240518', '20240519',\n",
      "       '20240520', '20240521', '20240522', '20240523', '20240524', '20240525',\n",
      "       '20240526', '20240527', '20240528', '20240529', '20240530', '20240531',\n",
      "       '20240601', '20240602', '20240603'],\n",
      "      dtype='object')\n"
     ]
    }
   ],
   "source": [
    "# initializing date list\n",
    "start_date = date(2024, 5, 14)\n",
    "yesterday = date.today() - timedelta(days=1)\n",
    "delta = (date.today() - start_date) #using \"today\" to make the dates work out right\n",
    "season_end = '20240919'\n",
    "\n",
    "if int(yesterday.strftime('%Y%m%d')) < int(season_end):\n",
    "    date_generated = pd.date_range(start_date, periods=delta.days, freq = '1D')\n",
    "    string_dates = date_generated.strftime('%Y%m%d')\n",
    "\n",
    "#regular season ends september 29\n",
    "print('string dates =', string_dates)"
   ]
  },
  {
   "cell_type": "code",
   "execution_count": 10,
   "id": "e0254ce9-f1c0-41e5-bc7d-2f72433c8431",
   "metadata": {},
   "outputs": [],
   "source": [
    "#Set up the DF for the scraped data\n",
    "game_cols = ['Year'\n",
    "             , 'Month'\n",
    "             , 'Day of Month'\n",
    "             , 'Day of Week'\n",
    "             #game time could be useful, but I'll only have it if I have been tracking since the beginning\n",
    "             , 'Home Team'\n",
    "             , 'Away Team'\n",
    "             , 'Home team home wins'\n",
    "             , 'Home team away wins'\n",
    "             , 'Home team home losses'\n",
    "             , 'Home team away losses'\n",
    "             , 'Away team home wins'\n",
    "             , 'Away team away wins'\n",
    "             , 'Away team home losses'\n",
    "             , 'Away team away losses'  \n",
    "             , 'Home team overall wins'\n",
    "             , 'Home team overall losses'\n",
    "             , 'Away team overall wins'\n",
    "             , 'Away team overall losses'\n",
    "             #other stats\n",
    "             #haha team ov/hi/aw points/rebounds/baskets/steals\n",
    "             , 'Home_Win_Flag' #This is a binary. I don't need an \"away win\" flag.\n",
    "            ]\n",
    "\n",
    "game_data = pd.DataFrame(columns = game_cols)"
   ]
  },
  {
   "cell_type": "code",
   "execution_count": 11,
   "id": "70299ab5-7252-4d84-9b40-ac2dd2dd0ec2",
   "metadata": {},
   "outputs": [
    {
     "name": "stdout",
     "output_type": "stream",
     "text": [
      "(0, 19)\n"
     ]
    }
   ],
   "source": [
    "print(game_data.shape)"
   ]
  },
  {
   "cell_type": "code",
   "execution_count": 12,
   "id": "aaf39f5c-75b7-4715-864d-e1aa9e1e70e4",
   "metadata": {},
   "outputs": [],
   "source": [
    "#initialize everything\n",
    "records_dict = {}\n",
    "outer_break = False\n",
    "index = 0 #where to start adding to the DF\n",
    "\n",
    "#initialize the records\n",
    "for sub in ['overall_records', 'home_records', 'away_records']:\n",
    "    records_dict[sub] = {}"
   ]
  },
  {
   "cell_type": "code",
   "execution_count": 13,
   "id": "09aae1f8-3b32-4d59-8bbd-a12d9979b9ad",
   "metadata": {},
   "outputs": [
    {
     "name": "stdout",
     "output_type": "stream",
     "text": [
      "{'January': 1, 'February': 2, 'March': 3, 'April': 4, 'May': 5, 'June': 6, 'July': 7, 'August': 8, 'September': 9, 'October': 10, 'November': 11, 'December': 12}\n",
      "{'Monday': 2, 'Tuesday': 3, 'Wednesday': 4, 'Thursday': 5, 'Friday': 6, 'Saturday': 7, 'Sunday': 1}\n"
     ]
    }
   ],
   "source": [
    "#month conversion\n",
    "    #counts starting at Janary = 1\n",
    "month_name_to_num = {name: num for num, name in enumerate(cal.month_name) if num}\n",
    "print(month_name_to_num)\n",
    "\n",
    "#day_of_week_conversion\n",
    "    #counts starting at Sunday = 1\n",
    "day_name_to_num = {name: ((num+1) % 7)+1 for num, name in enumerate(cal.day_name)}\n",
    "print(day_name_to_num)"
   ]
  },
  {
   "cell_type": "code",
   "execution_count": 14,
   "id": "12903586-8de9-40fd-a69c-56bdf4d78133",
   "metadata": {},
   "outputs": [
    {
     "name": "stdout",
     "output_type": "stream",
     "text": [
      "game data shape = (20, 19)\n",
      "game data shape = (40, 19)\n",
      "game data shape = (49, 19)\n",
      "game data df complete\n"
     ]
    }
   ],
   "source": [
    "#SCRAPE THE DATA\n",
    "#also, could include record against opposing team\n",
    "    #wins vs opponent\n",
    "    #losses vs opponent\n",
    "    #points\n",
    "    #rebounds\n",
    "    #steals\n",
    "    #baskets\n",
    "    #possession percentage\n",
    "outer_break = False\n",
    "for day in string_dates:#['20240525']\n",
    "    \n",
    "    if outer_break: #this is set to True if the game has not been played yet.\n",
    "        break #don't want to keep trying to process if no more games\n",
    "        \n",
    "    test_url = \"https://www.espn.com/wnba/schedule/_/date/\" + day\n",
    "\n",
    "    #set the header so that espn doesn't reject me directly\n",
    "    header = {\"user-agent\": \"Mozilla/5.0 (Windows NT 10.0; Win64; x64) AppleWebKit/537.36 (KHTML, like Gecko) Chrome/88.0.4324.182 Safari/537.36\"} #have to do this or else ESPN will block me for being a python script and not a user.\n",
    "    request = rq.get(test_url, headers = header) #assign my request to a variable\n",
    "\n",
    "    #get the html of the page\n",
    "    html_text = bs(request.text, 'html') #See the HTML code of the whole page\n",
    "\n",
    "    #get the individual responsive tables on the page. These are many. I only want the first one.\n",
    "    responsive_table = html_text.find('div', class_ = \"ResponsiveTable\")\n",
    "    table_date = responsive_table.find('div', class_ = \"Table__Title\").text\n",
    "    day_of_week_name, nothing1, month_name, day_num, nothing2, year_num, nothing3 = re.split(r'[,| ]', table_date)\n",
    "    day_of_week_num = day_name_to_num[day_of_week_name] #convert string name to number in week\n",
    "    month_of_year_num = month_name_to_num[month_name] #convert string name to number in week\n",
    "    games = responsive_table.find_all('tr', class_ = 'Table__TR Table__TR--sm Table__even')\n",
    "    \n",
    "    for game in games:\n",
    "        #Get away team\n",
    "        away_cell = game.find('td', class_ = 'events__col Table__TD')\n",
    "        away_team = away_cell.find('span', {'class': 'Table__Team away'})\n",
    "        away_team_tag = away_team.find('a', class_ = 'AnchorLink', tabindex = '0', href = re.compile('/wnba/team/_/name/'))\n",
    "        away_team_tag_href = away_team_tag.get('href')\n",
    "        split = re.split('/', away_team_tag_href)\n",
    "        away_team = split[5].upper()\n",
    "\n",
    "        #Get home team\n",
    "        home_cell = game.find('td', class_ = 'colspan__col Table__TD')\n",
    "        home_team = home_cell.find('span', {'class': 'Table__Team'})\n",
    "        home_team_tag = home_team.find('a', class_ = 'AnchorLink', tabindex = '0', href = re.compile('/wnba/team/_/name/'))\n",
    "        home_team_tag_href = home_team_tag.get('href')\n",
    "        split = re.split('/', home_team_tag_href)\n",
    "        home_team = split[5].upper()\n",
    "\n",
    "#this part fails if no games happen on a day\n",
    "        #Parse the box score\n",
    "        game_results = game.find_all('td', class_ = 'teams__col Table__TD')\n",
    "        try:\n",
    "            score_line = game_results[0].find('a', class_ = 'AnchorLink').text\n",
    "        except IndexError: #there no games to create scores\n",
    "            outer_break = True\n",
    "            break\n",
    "        if len(re.split(r'[,| ]', score_line)) == 5:\n",
    "            win_team, win_score, nothing1, lose_team, lose_score = re.split(r'[,| ]', score_line)\n",
    "        \n",
    "        #if the team doesn't exist in the record dicts then create it\n",
    "        for sub in ['overall_records', 'home_records', 'away_records']:\n",
    "            if home_team not in records_dict[sub].keys():\n",
    "                records_dict[sub][home_team] = [0,0]\n",
    "            if away_team not in records_dict[sub].keys():\n",
    "                records_dict[sub][away_team] = [0,0]\n",
    "\n",
    "        #i think that knowing home vs away winner will be important to the analysis\n",
    "        home_win_flag = 0 #default\n",
    "        #if the home team wins then change the flag to 1\n",
    "        if win_team == home_team:\n",
    "            home_win_flag = 1\n",
    "            records_dict['overall_records'][home_team][0] += 1 #home team registers a win\n",
    "            records_dict['home_records'][home_team][0] += 1 #home team registers a home win\n",
    "            records_dict['overall_records'][away_team][1] += 1 #away team registers a loss\n",
    "            records_dict['away_records'][away_team][1] += 1 #away team registers an away loss\n",
    "        elif win_team == away_team:\n",
    "            records_dict['overall_records'][home_team][1] += 1 #home team registers a loss\n",
    "            records_dict['home_records'][home_team][1] += 1 #home team registers a home loss\n",
    "            records_dict['overall_records'][away_team][0] += 1 #away team registers a win\n",
    "            records_dict['away_records'][away_team][0] += 1 #away team registers an away win\n",
    "        else:\n",
    "            continue\n",
    "\n",
    "#######################                #append to the DF of the games\n",
    "\n",
    "        num_rows = game_data.shape[0]\n",
    "        game_data.loc[(num_rows + 1)] = [year_num\n",
    "            , month_of_year_num\n",
    "            , day_num                             \n",
    "            , day_of_week_num\n",
    "            , home_team\n",
    "            , away_team\n",
    "            , records_dict['home_records'][home_team][0] #home team home wins\n",
    "            , records_dict['away_records'][home_team][0] #Home team away wins\n",
    "            , records_dict['home_records'][home_team][1] #Home team home losses\n",
    "            , records_dict['away_records'][home_team][1] #Home team away losses\n",
    "            , records_dict['home_records'][away_team][0] #Away team home wins\n",
    "            , records_dict['away_records'][away_team][0] #Away team away wins\n",
    "            , records_dict['home_records'][away_team][1] #Away team home losses\n",
    "            , records_dict['away_records'][away_team][1] #Away team away losses\n",
    "            , records_dict['overall_records'][home_team][0] #Home team overall wins\n",
    "            , records_dict['overall_records'][home_team][1] #Home team overall losses\n",
    "            , records_dict['overall_records'][away_team][0] #Away team overall wins\n",
    "            , records_dict['overall_records'][away_team][1] #Away team overall losses\n",
    "            , home_win_flag\n",
    "        ]\n",
    "        if game_data.shape[0] % 20 == 0:\n",
    "            print('game data shape =', game_data.shape)\n",
    "        outer_break = False\n",
    "print('game data shape =', game_data.shape)\n",
    "print('game data df complete')"
   ]
  },
  {
   "cell_type": "code",
   "execution_count": 15,
   "id": "84fc7ffd-8331-4f1c-913f-740e6f4804d9",
   "metadata": {},
   "outputs": [
    {
     "name": "stdout",
     "output_type": "stream",
     "text": [
      "(49, 41)\n",
      "    Year  Month Day of Month  Day of Week  Home team home wins  \\\n",
      "40  2024      5           30            5                    1   \n",
      "41  2024      5           31            6                    2   \n",
      "42  2024      5           31            6                    5   \n",
      "43  2024      5           31            6                    4   \n",
      "44  2024      5           31            6                    2   \n",
      "45  2024      6            1            7                    1   \n",
      "46  2024      6            2            1                    2   \n",
      "47  2024      6            2            1                    3   \n",
      "48  2024      6            2            1                    5   \n",
      "49  2024      6            2            1                    3   \n",
      "\n",
      "    Home team away wins  Home team home losses  Home team away losses  \\\n",
      "40                    2                      3                      1   \n",
      "41                    2                      1                      1   \n",
      "42                    2                      0                      0   \n",
      "43                    2                      1                      1   \n",
      "44                    2                      1                      0   \n",
      "45                    1                      5                      4   \n",
      "46                    2                      2                      1   \n",
      "47                    1                      1                      5   \n",
      "48                    2                      1                      1   \n",
      "49                    2                      1                      0   \n",
      "\n",
      "    Away team home wins  Away team away wins  ...  Away Team_CONN  \\\n",
      "40                    1                    2  ...           False   \n",
      "41                    3                    1  ...           False   \n",
      "42                    1                    2  ...           False   \n",
      "43                    0                    0  ...           False   \n",
      "44                    2                    1  ...           False   \n",
      "45                    1                    2  ...           False   \n",
      "46                    5                    3  ...            True   \n",
      "47                    1                    2  ...           False   \n",
      "48                    1                    1  ...           False   \n",
      "49                    1                    2  ...           False   \n",
      "\n",
      "    Away Team_DAL  Away Team_IND  Away Team_LA  Away Team_LV  Away Team_MIN  \\\n",
      "40          False          False          True         False          False   \n",
      "41          False          False         False          True          False   \n",
      "42           True          False         False         False          False   \n",
      "43          False          False         False         False          False   \n",
      "44          False          False         False         False          False   \n",
      "45          False          False         False         False          False   \n",
      "46          False          False         False         False          False   \n",
      "47          False          False          True         False          False   \n",
      "48          False           True         False         False          False   \n",
      "49           True          False         False         False          False   \n",
      "\n",
      "    Away Team_NY  Away Team_PHX  Away Team_SEA  Away Team_WSH  \n",
      "40         False          False          False          False  \n",
      "41         False          False          False          False  \n",
      "42         False          False          False          False  \n",
      "43         False          False          False           True  \n",
      "44         False           True          False          False  \n",
      "45         False          False          False          False  \n",
      "46         False          False          False          False  \n",
      "47         False          False          False          False  \n",
      "48         False          False          False          False  \n",
      "49         False          False          False          False  \n",
      "\n",
      "[10 rows x 41 columns]\n"
     ]
    }
   ],
   "source": [
    "#gotta ohe the home and away team names\n",
    "game_data_ohe = pd.get_dummies(data = game_data, columns = ['Home Team', 'Away Team'])\n",
    "print(game_data_ohe.shape)\n",
    "print(game_data_ohe.tail(10))"
   ]
  },
  {
   "cell_type": "code",
   "execution_count": 16,
   "id": "6cc14d48-2781-4c5c-95a3-39ed25f68b94",
   "metadata": {},
   "outputs": [],
   "source": [
    "#Here is where I need to start feeding in predictions.\n",
    "#only after I have expanded to the full OHE\n",
    "\n",
    "def record_for_pred(away_team, home_team, date_string = date.today()):\n",
    "    string_date = date_string.strftime('%Y%m%d')\n",
    "    pred_dict = {\n",
    "        'Home Team_' + home_team: 1 #flag\n",
    "        , 'Away Team_' + away_team: 1 #flag\n",
    "        , 'Year': int(string_date[:4]) #first four digits\n",
    "        , 'Month': int(string_date[4:6]) #next two digits\n",
    "        , 'Day of Month': int(string_date[6:8])#next two digits\n",
    "        , 'Day of Week': day_name_to_num[date_string.strftime('%A')]\n",
    "        , 'Home team home wins': records_dict['home_records'][home_team][0]\n",
    "        , 'Home team away wins': records_dict['away_records'][home_team][0]\n",
    "        , 'Home team home losses': records_dict['home_records'][home_team][1]\n",
    "        , 'Home team away losses': records_dict['away_records'][home_team][1]\n",
    "        , 'Away team home wins': records_dict['home_records'][away_team][0]\n",
    "        , 'Away team away wins': records_dict['away_records'][away_team][0]\n",
    "        , 'Away team home losses': records_dict['home_records'][away_team][1]\n",
    "        , 'Away team away losses': records_dict['away_records'][away_team][1]\n",
    "        , 'Home team overall wins': records_dict['overall_records'][home_team][0]\n",
    "        , 'Home team overall losses': records_dict['overall_records'][home_team][1]\n",
    "        , 'Away team overall wins': records_dict['overall_records'][away_team][0]\n",
    "        , 'Away team overall losses': records_dict['overall_records'][away_team][1]\n",
    "    }\n",
    "    return pred_dict"
   ]
  },
  {
   "cell_type": "code",
   "execution_count": 17,
   "id": "ef994f1c-6fa1-4612-82dc-cbe3575ff81b",
   "metadata": {},
   "outputs": [
    {
     "name": "stdout",
     "output_type": "stream",
     "text": [
      "   Year  Month  Day of Month  Day of Week  Home team home wins  \\\n",
      "0  2024      6             4            3                    5   \n",
      "1  2024      6             4            3                    1   \n",
      "2  2024      6             4            3                    2   \n",
      "\n",
      "   Home team away wins  Home team home losses  Home team away losses  \\\n",
      "0                    3                      0                      0   \n",
      "1                    2                      3                      2   \n",
      "2                    4                      1                      1   \n",
      "\n",
      "   Away team home wins  Away team away wins  ...  Away Team_CONN  \\\n",
      "0                    0                    0  ...               0   \n",
      "1                    5                    2  ...               0   \n",
      "2                    3                    1  ...               0   \n",
      "\n",
      "   Away Team_DAL  Away Team_IND  Away Team_LA  Away Team_LV  Away Team_MIN  \\\n",
      "0              0              0             0             0              0   \n",
      "1              0              0             0             0              0   \n",
      "2              0              0             0             0              0   \n",
      "\n",
      "   Away Team_NY  Away Team_PHX  Away Team_SEA  Away Team_WSH  \n",
      "0             0              0              0              1  \n",
      "1             1              0              0              0  \n",
      "2             0              1              0              0  \n",
      "\n",
      "[3 rows x 40 columns]\n"
     ]
    }
   ],
   "source": [
    "#Set up the input games for prediction\n",
    "df_for_preds = pd.DataFrame(columns = game_data_ohe.columns)\n",
    "games_list = [\n",
    "    ['WSH', 'CONN']\n",
    "    ,['NY', 'CHI']\n",
    "    ,['PHX', 'SEA']\n",
    "]\n",
    "\n",
    "#generate the recordsot insert for predictions\n",
    "for i, game in enumerate(games_list):\n",
    "\n",
    "    #parse the incoming list\n",
    "    away_team = game[0]\n",
    "    home_team = game[1]\n",
    "\n",
    "    #try to use the function\n",
    "    try:\n",
    "        new_record = record_for_pred(away_team, home_team)\n",
    "    #if it fails then an OHE-generated column is missing\n",
    "    #so create column\n",
    "    except:\n",
    "        for thing in [away_team, home_team]:\n",
    "            for rec_type in ['overall_records', 'home_records', 'away_records']:\n",
    "                if thing not in records_dict[rec_type].keys():\n",
    "                    print('not in records =', thing)\n",
    "                    records_dict[rec_type][thing] = [0, 0]\n",
    "        new_record = record_for_pred(away_team, home_team)\n",
    "    df_for_preds = pd.concat([df_for_preds, pd.DataFrame(new_record, index = [i])])\n",
    "       \n",
    "df_for_preds = df_for_preds.astype(float).fillna(0).astype(int).drop('Home_Win_Flag', axis = 1)\n",
    "print(df_for_preds)"
   ]
  },
  {
   "cell_type": "code",
   "execution_count": 18,
   "id": "60d89608-6297-414f-a9b6-0b793d5bc6c5",
   "metadata": {},
   "outputs": [
    {
     "name": "stdout",
     "output_type": "stream",
     "text": [
      "41\n",
      "40\n",
      "(49, 41)\n",
      "(3, 41)\n"
     ]
    }
   ],
   "source": [
    "a = game_data_ohe.copy().columns\n",
    "b = df_for_preds.copy().columns\n",
    "print(len(a))\n",
    "print(len(b))\n",
    "df_for_preds[a.difference(b)] = 0 #add the missing columns\n",
    "df_for_preds = df_for_preds.copy()\n",
    "game_data_ohe[b.difference(a)] = 0 #add the missing columns\n",
    "game_data_ohe = game_data_ohe.copy()\n",
    "print(game_data_ohe.shape) #will eventually split off the home win flag column\n",
    "print(df_for_preds.shape) #have to remove the home win flag column to do predictions"
   ]
  },
  {
   "cell_type": "code",
   "execution_count": 19,
   "id": "4d978a9c-69d1-4925-a5e5-7f4437e6f606",
   "metadata": {},
   "outputs": [
    {
     "name": "stdout",
     "output_type": "stream",
     "text": [
      "(49, 40)\n",
      "(3, 40)\n"
     ]
    }
   ],
   "source": [
    "#set up the training data, the training labels, and the data to use for predictions\n",
    "x_train = game_data_ohe.drop('Home_Win_Flag', axis = 1)\n",
    "print(x_train.shape)\n",
    "y_train = game_data_ohe['Home_Win_Flag']\n",
    "new_df_for_preds = df_for_preds.drop('Home_Win_Flag', axis = 1)\n",
    "print(new_df_for_preds.shape)\n",
    "\n",
    "#x_test = game_data_ohe[-60:-30].drop('Home_Win_Flag', axis = 1)\n",
    "#y_test = game_data_ohe[-60:-30]['Home_Win_Flag']"
   ]
  },
  {
   "cell_type": "code",
   "execution_count": 20,
   "id": "6943cb18",
   "metadata": {},
   "outputs": [
    {
     "data": {
      "text/html": [
       "<style>#sk-container-id-1 {color: black;background-color: white;}#sk-container-id-1 pre{padding: 0;}#sk-container-id-1 div.sk-toggleable {background-color: white;}#sk-container-id-1 label.sk-toggleable__label {cursor: pointer;display: block;width: 100%;margin-bottom: 0;padding: 0.3em;box-sizing: border-box;text-align: center;}#sk-container-id-1 label.sk-toggleable__label-arrow:before {content: \"▸\";float: left;margin-right: 0.25em;color: #696969;}#sk-container-id-1 label.sk-toggleable__label-arrow:hover:before {color: black;}#sk-container-id-1 div.sk-estimator:hover label.sk-toggleable__label-arrow:before {color: black;}#sk-container-id-1 div.sk-toggleable__content {max-height: 0;max-width: 0;overflow: hidden;text-align: left;background-color: #f0f8ff;}#sk-container-id-1 div.sk-toggleable__content pre {margin: 0.2em;color: black;border-radius: 0.25em;background-color: #f0f8ff;}#sk-container-id-1 input.sk-toggleable__control:checked~div.sk-toggleable__content {max-height: 200px;max-width: 100%;overflow: auto;}#sk-container-id-1 input.sk-toggleable__control:checked~label.sk-toggleable__label-arrow:before {content: \"▾\";}#sk-container-id-1 div.sk-estimator input.sk-toggleable__control:checked~label.sk-toggleable__label {background-color: #d4ebff;}#sk-container-id-1 div.sk-label input.sk-toggleable__control:checked~label.sk-toggleable__label {background-color: #d4ebff;}#sk-container-id-1 input.sk-hidden--visually {border: 0;clip: rect(1px 1px 1px 1px);clip: rect(1px, 1px, 1px, 1px);height: 1px;margin: -1px;overflow: hidden;padding: 0;position: absolute;width: 1px;}#sk-container-id-1 div.sk-estimator {font-family: monospace;background-color: #f0f8ff;border: 1px dotted black;border-radius: 0.25em;box-sizing: border-box;margin-bottom: 0.5em;}#sk-container-id-1 div.sk-estimator:hover {background-color: #d4ebff;}#sk-container-id-1 div.sk-parallel-item::after {content: \"\";width: 100%;border-bottom: 1px solid gray;flex-grow: 1;}#sk-container-id-1 div.sk-label:hover label.sk-toggleable__label {background-color: #d4ebff;}#sk-container-id-1 div.sk-serial::before {content: \"\";position: absolute;border-left: 1px solid gray;box-sizing: border-box;top: 0;bottom: 0;left: 50%;z-index: 0;}#sk-container-id-1 div.sk-serial {display: flex;flex-direction: column;align-items: center;background-color: white;padding-right: 0.2em;padding-left: 0.2em;position: relative;}#sk-container-id-1 div.sk-item {position: relative;z-index: 1;}#sk-container-id-1 div.sk-parallel {display: flex;align-items: stretch;justify-content: center;background-color: white;position: relative;}#sk-container-id-1 div.sk-item::before, #sk-container-id-1 div.sk-parallel-item::before {content: \"\";position: absolute;border-left: 1px solid gray;box-sizing: border-box;top: 0;bottom: 0;left: 50%;z-index: -1;}#sk-container-id-1 div.sk-parallel-item {display: flex;flex-direction: column;z-index: 1;position: relative;background-color: white;}#sk-container-id-1 div.sk-parallel-item:first-child::after {align-self: flex-end;width: 50%;}#sk-container-id-1 div.sk-parallel-item:last-child::after {align-self: flex-start;width: 50%;}#sk-container-id-1 div.sk-parallel-item:only-child::after {width: 0;}#sk-container-id-1 div.sk-dashed-wrapped {border: 1px dashed gray;margin: 0 0.4em 0.5em 0.4em;box-sizing: border-box;padding-bottom: 0.4em;background-color: white;}#sk-container-id-1 div.sk-label label {font-family: monospace;font-weight: bold;display: inline-block;line-height: 1.2em;}#sk-container-id-1 div.sk-label-container {text-align: center;}#sk-container-id-1 div.sk-container {/* jupyter's `normalize.less` sets `[hidden] { display: none; }` but bootstrap.min.css set `[hidden] { display: none !important; }` so we also need the `!important` here to be able to override the default hidden behavior on the sphinx rendered scikit-learn.org. See: https://github.com/scikit-learn/scikit-learn/issues/21755 */display: inline-block !important;position: relative;}#sk-container-id-1 div.sk-text-repr-fallback {display: none;}</style><div id=\"sk-container-id-1\" class=\"sk-top-container\"><div class=\"sk-text-repr-fallback\"><pre>RandomForestClassifier(n_estimators=200, n_jobs=-2, random_state=42)</pre><b>In a Jupyter environment, please rerun this cell to show the HTML representation or trust the notebook. <br />On GitHub, the HTML representation is unable to render, please try loading this page with nbviewer.org.</b></div><div class=\"sk-container\" hidden><div class=\"sk-item\"><div class=\"sk-estimator sk-toggleable\"><input class=\"sk-toggleable__control sk-hidden--visually\" id=\"sk-estimator-id-1\" type=\"checkbox\" checked><label for=\"sk-estimator-id-1\" class=\"sk-toggleable__label sk-toggleable__label-arrow\">RandomForestClassifier</label><div class=\"sk-toggleable__content\"><pre>RandomForestClassifier(n_estimators=200, n_jobs=-2, random_state=42)</pre></div></div></div></div></div>"
      ],
      "text/plain": [
       "RandomForestClassifier(n_estimators=200, n_jobs=-2, random_state=42)"
      ]
     },
     "execution_count": 20,
     "metadata": {},
     "output_type": "execute_result"
    }
   ],
   "source": [
    "#random forest classifier\n",
    "mlb_rf1 = RandomForestClassifier(n_estimators = 200, n_jobs = -2, random_state = 42) #no hyperparameter testing or tuning\n",
    "mlb_rf1.fit(x_train, y_train)"
   ]
  },
  {
   "cell_type": "code",
   "execution_count": 21,
   "id": "000f04de-d709-470b-ac09-82bd2f662f57",
   "metadata": {},
   "outputs": [
    {
     "name": "stdout",
     "output_type": "stream",
     "text": [
      "40\n",
      "40\n"
     ]
    }
   ],
   "source": [
    "#check that all the columns are in the same order\n",
    "print((x_train.columns == new_df_for_preds.columns).sum())\n",
    "new_df_for_preds = new_df_for_preds[x_train.columns]\n",
    "print((x_train.columns == new_df_for_preds.columns).sum())"
   ]
  },
  {
   "cell_type": "code",
   "execution_count": 22,
   "id": "d2ce2281-902c-4657-8814-c8c1d64c8333",
   "metadata": {},
   "outputs": [
    {
     "name": "stdout",
     "output_type": "stream",
     "text": [
      "[1 0 1]\n"
     ]
    }
   ],
   "source": [
    "y_pred = mlb_rf1.predict(new_df_for_preds)\n",
    "#conf_mat = confusion_matrix(y_test, y_pred)\n",
    "#print(conf_mat)\n",
    "#print(mlb_rf1.score(x_test, y_test))\n",
    "print(y_pred)\n",
    "#75 to 80 percent accuracy on default Random Forest"
   ]
  },
  {
   "cell_type": "code",
   "execution_count": 23,
   "id": "7808a567-ea7e-4fd8-a5e8-ee3cd90b64bb",
   "metadata": {},
   "outputs": [
    {
     "name": "stdout",
     "output_type": "stream",
     "text": [
      "CONN\n",
      "NY\n",
      "SEA\n"
     ]
    }
   ],
   "source": [
    "for i, game in enumerate(games_list):\n",
    "    #can just do value\n",
    "    print(game[y_pred[i]]) #use i in y_pred to find Home_Win_Flag prediction."
   ]
  },
  {
   "cell_type": "code",
   "execution_count": null,
   "id": "2a87cc41-6385-4490-95f1-b0da8170954a",
   "metadata": {},
   "outputs": [],
   "source": []
  }
 ],
 "metadata": {
  "kernelspec": {
   "display_name": "Python 3 (ipykernel)",
   "language": "python",
   "name": "python3"
  },
  "language_info": {
   "codemirror_mode": {
    "name": "ipython",
    "version": 3
   },
   "file_extension": ".py",
   "mimetype": "text/x-python",
   "name": "python",
   "nbconvert_exporter": "python",
   "pygments_lexer": "ipython3",
   "version": "3.11.9"
  }
 },
 "nbformat": 4,
 "nbformat_minor": 5
}
